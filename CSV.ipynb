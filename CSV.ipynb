{
 "cells": [
  {
   "cell_type": "markdown",
   "id": "6f0067f4",
   "metadata": {},
   "source": [
    "## Ler Arquivo\n",
    "\n"
   ]
  },
  {
   "cell_type": "code",
   "execution_count": 21,
   "id": "37129873-78b2-4e8c-b392-64699bdc1ddb",
   "metadata": {},
   "outputs": [],
   "source": [
    "import pandas as pd\n",
    "df = pd.read_csv('dicionario.csv',index_col=0)"
   ]
  },
  {
   "cell_type": "markdown",
   "id": "abfe484f",
   "metadata": {},
   "source": [
    "## Percevejo > 0"
   ]
  },
  {
   "cell_type": "code",
   "execution_count": 22,
   "id": "7d144013",
   "metadata": {},
   "outputs": [
    {
     "name": "stdout",
     "output_type": "stream",
     "text": [
      "291\n"
     ]
    }
   ],
   "source": [
    "temPercevejo = df[df['PERCEVEJO'] > 0 ]\n",
    "print(len(temPercevejo))"
   ]
  },
  {
   "cell_type": "markdown",
   "id": "6c29284e",
   "metadata": {},
   "source": [
    "## Percevejo = 0"
   ]
  },
  {
   "cell_type": "code",
   "execution_count": 23,
   "id": "75327fae",
   "metadata": {},
   "outputs": [
    {
     "name": "stdout",
     "output_type": "stream",
     "text": [
      "309\n"
     ]
    }
   ],
   "source": [
    "semPercevejo = df[df['PERCEVEJO'] == 0 ]\n",
    "print(len(semPercevejo))"
   ]
  },
  {
   "cell_type": "markdown",
   "id": "a622e106",
   "metadata": {},
   "source": [
    "## Listar Valores do DataSet"
   ]
  },
  {
   "cell_type": "markdown",
   "id": "7a6f9f10",
   "metadata": {},
   "source": [
    "### Total"
   ]
  },
  {
   "cell_type": "code",
   "execution_count": 30,
   "id": "e7fffdfb",
   "metadata": {},
   "outputs": [
    {
     "name": "stdout",
     "output_type": "stream",
     "text": [
      "600\n"
     ]
    }
   ],
   "source": [
    "Total = df[df['PERCEVEJO'] >= 0 ]\n",
    "print(len(Total))"
   ]
  },
  {
   "cell_type": "markdown",
   "id": "e918d135",
   "metadata": {},
   "source": [
    "### Cada Quantidade"
   ]
  },
  {
   "cell_type": "code",
   "execution_count": 45,
   "id": "d7c214cf",
   "metadata": {},
   "outputs": [
    {
     "name": "stdout",
     "output_type": "stream",
     "text": [
      "0     309\n",
      "1     128\n",
      "2      77\n",
      "3      39\n",
      "4      23\n",
      "5      10\n",
      "6       9\n",
      "7       4\n",
      "10      1\n",
      "Name: PERCEVEJO, dtype: int64\n"
     ]
    }
   ],
   "source": [
    "cada = df[\"PERCEVEJO\"].value_counts()\n",
    "print(cada)"
   ]
  },
  {
   "cell_type": "markdown",
   "id": "007fc0a2",
   "metadata": {},
   "source": [
    "### Sample"
   ]
  },
  {
   "cell_type": "code",
   "execution_count": 51,
   "id": "4e8b20e7",
   "metadata": {},
   "outputs": [
    {
     "name": "stdout",
     "output_type": "stream",
     "text": [
      "                                     PERCEVEJO\n",
      "filename                                      \n",
      "/home/PERCEVEJO/train/CATAN6_57.tif          4\n",
      "/home/PERCEVEJO/train/CATAN6_56.tif          1\n",
      "/home/PERCEVEJO/train/CATAN6_54.tif          4\n",
      "/home/PERCEVEJO/train/CATAN6_53.tif          3\n",
      "/home/PERCEVEJO/train/CATAN6_52.tif          3\n",
      "/home/PERCEVEJO/train/CATAN6_58.tif          0\n",
      "/home/PERCEVEJO/train/CATAN6_55.tif          0\n",
      "/home/PERCEVEJO/train/CATAN6_51.tif          0\n",
      "/home/PERCEVEJO/train/CATAN6_18.tif          0\n",
      "/home/PERCEVEJO/train/CATAN6_24.tif          0\n"
     ]
    }
   ],
   "source": [
    "sp_tempercevejo = df[df['PERCEVEJO'] > 0][['PERCEVEJO']].copy()\n",
    "sp_sempercevejo = df[df['PERCEVEJO'] == 0][['PERCEVEJO']].copy()\n",
    "Sample = pd.concat([sp_tempercevejo[:5], sp_sempercevejo[:5]])\n",
    "\n",
    "print(Sample)"
   ]
  },
  {
   "cell_type": "code",
   "execution_count": null,
   "id": "ee21939d",
   "metadata": {},
   "outputs": [],
   "source": []
  },
  {
   "cell_type": "markdown",
   "id": "5f0f2d35",
   "metadata": {},
   "source": [
    "### Balaceado"
   ]
  },
  {
   "cell_type": "code",
   "execution_count": 56,
   "id": "08488d69",
   "metadata": {},
   "outputs": [
    {
     "name": "stdout",
     "output_type": "stream",
     "text": [
      "COM PERCEVEJO\n",
      "                                     PERCEVEJO\n",
      "filename                                      \n",
      "/home/PERCEVEJO/train/CATAN6_57.tif          4\n",
      "/home/PERCEVEJO/train/CATAN6_56.tif          1\n",
      "/home/PERCEVEJO/train/CATAN6_54.tif          4\n",
      "/home/PERCEVEJO/train/CATAN6_53.tif          3\n",
      "/home/PERCEVEJO/train/CATAN6_52.tif          3\n",
      "...                                        ...\n",
      "/home/PERCEVEJO/train/GIRA8_66.tif           2\n",
      "/home/PERCEVEJO/train/GIRA8_15.tif           2\n",
      "/home/PERCEVEJO/train/GIRA8_83.tif           2\n",
      "/home/PERCEVEJO/train/GIRA8_2.tif            1\n",
      "/home/PERCEVEJO/train/GIRA8_23.tif           4\n",
      "\n",
      "[291 rows x 1 columns]\n",
      "SEM PERCEVEJO\n",
      "                                     PERCEVEJO\n",
      "filename                                      \n",
      "/home/PERCEVEJO/train/CATAN6_65.tif          0\n",
      "/home/PERCEVEJO/train/CATAN6_62.tif          0\n",
      "/home/PERCEVEJO/train/CATAN6_61.tif          0\n",
      "/home/PERCEVEJO/train/CATAN6_60.tif          0\n",
      "/home/PERCEVEJO/train/CATAN6_59.tif          0\n",
      "...                                        ...\n",
      "/home/PERCEVEJO/train/GIRA8_30.tif           0\n",
      "/home/PERCEVEJO/train/GIRA8_14.tif           0\n",
      "/home/PERCEVEJO/train/GIRA8_25.tif           0\n",
      "/home/PERCEVEJO/train/GIRA8_31.tif           0\n",
      "/home/PERCEVEJO/train/GIRA8_42.tif           0\n",
      "\n",
      "[291 rows x 1 columns]\n"
     ]
    }
   ],
   "source": [
    "diferenca = len(sp_sempercevejo) - len(sp_tempercevejo)\n",
    "\n",
    "if diferenca > 0:\n",
    "    sp_sempercevejo = sp_sempercevejo.drop(sp_sempercevejo.index[range(diferenca)])\n",
    "else:\n",
    "    sp_tempercevejo = sp_tempercevejo.drop(sp_tempercevejo.index[range(diferenca)])\n",
    "\n",
    "print (\"COM PERCEVEJO\")\n",
    "print(sp_tempercevejo)\n",
    "\n",
    "print (\"SEM PERCEVEJO\")\n",
    "print(sp_sempercevejo)"
   ]
  },
  {
   "cell_type": "code",
   "execution_count": null,
   "id": "73b054b7",
   "metadata": {},
   "outputs": [],
   "source": []
  }
 ],
 "metadata": {
  "kernelspec": {
   "display_name": "Python 3 (ipykernel)",
   "language": "python",
   "name": "python3"
  },
  "language_info": {
   "codemirror_mode": {
    "name": "ipython",
    "version": 3
   },
   "file_extension": ".py",
   "mimetype": "text/x-python",
   "name": "python",
   "nbconvert_exporter": "python",
   "pygments_lexer": "ipython3",
   "version": "3.9.12"
  }
 },
 "nbformat": 4,
 "nbformat_minor": 5
}
