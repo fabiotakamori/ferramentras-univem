{
 "cells": [
  {
   "cell_type": "markdown",
   "id": "4332f43b",
   "metadata": {},
   "source": [
    "## importa bibilioteca\n"
   ]
  },
  {
   "cell_type": "code",
   "execution_count": null,
   "id": "433d23c8",
   "metadata": {},
   "outputs": [],
   "source": [
    "import cv2"
   ]
  },
  {
   "cell_type": "markdown",
   "id": "488edb4d",
   "metadata": {},
   "source": [
    "## leitura da imagem, utiliza o método show para exibição"
   ]
  },
  {
   "cell_type": "code",
   "execution_count": null,
   "id": "908d95a8",
   "metadata": {},
   "outputs": [],
   "source": [
    "imagem = cv2.imread(\"image.jpg\",0)\n",
    "cv2.imshow(\"img\", imagem)\n",
    "cv2.waitKey(0) \n",
    "cv2.destroyAllWindows() "
   ]
  },
  {
   "cell_type": "code",
   "execution_count": null,
   "id": "dc204bff",
   "metadata": {},
   "outputs": [],
   "source": []
  }
 ],
 "metadata": {
  "kernelspec": {
   "display_name": "Python 3 (ipykernel)",
   "language": "python",
   "name": "python3"
  },
  "language_info": {
   "codemirror_mode": {
    "name": "ipython",
    "version": 3
   },
   "file_extension": ".py",
   "mimetype": "text/x-python",
   "name": "python",
   "nbconvert_exporter": "python",
   "pygments_lexer": "ipython3",
   "version": "3.9.12"
  }
 },
 "nbformat": 4,
 "nbformat_minor": 5
}
